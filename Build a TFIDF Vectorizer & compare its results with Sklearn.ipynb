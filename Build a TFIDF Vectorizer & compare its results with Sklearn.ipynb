{
 "cells": [
  {
   "cell_type": "markdown",
   "metadata": {
    "id": "h9464I-uxLiw"
   },
   "source": [
    "# Assignment"
   ]
  },
  {
   "cell_type": "markdown",
   "metadata": {
    "id": "dg2ooa4DxLiz"
   },
   "source": [
    "## Task-1"
   ]
  },
  {
   "cell_type": "markdown",
   "metadata": {
    "id": "TAcTjhO8xLiz"
   },
   "source": [
    " <font face='georgia'>\n",
    "    <h4><strong>1. Build a TFIDF Vectorizer & compare its results with Sklearn:</strong></h4>\n",
    "\n",
    "<ul>\n",
    "    <li> As a part of this task you will be implementing TFIDF vectorizer on a collection of text documents.</li>\n",
    "    <br>\n",
    "    <li> You should compare the results of your own implementation of TFIDF vectorizer with that of sklearns implemenation TFIDF vectorizer.</li>\n",
    "    <br>\n",
    "    <li> Sklearn does few more tweaks in the implementation of its version of TFIDF vectorizer, so to replicate the exact results you would need to add following things to your custom implementation of tfidf vectorizer:\n",
    "       <ol>\n",
    "        <li> Sklearn has its vocabulary generated from idf sroted in alphabetical order</li>\n",
    "        <li> Sklearn formula of idf is different from the standard textbook formula. Here the constant <strong>\"1\"</strong> is added to the numerator and denominator of the idf as if an extra document was seen containing every term in the collection exactly once, which prevents zero divisions.\n",
    "            \n",
    " $IDF(t) = 1+\\log_{e}\\frac{1\\text{ }+\\text{ Total  number of documents in collection}} {1+\\text{Number of documents with term t in it}}.$\n",
    "        </li>\n",
    "        <li> Sklearn applies L2-normalization on its output matrix.</li>\n",
    "        <li> The final output of sklearn tfidf vectorizer is a sparse matrix.</li>\n",
    "    </ol>\n",
    "    <br>\n",
    "    <li>Steps to approach this task:\n",
    "    <ol>\n",
    "        <li> You would have to write both fit and transform methods for your custom implementation of tfidf vectorizer.</li>\n",
    "        <li> Print out the alphabetically sorted voacb after you fit your data and check if its the same as that of the feature names from sklearn tfidf vectorizer. </li>\n",
    "        <li> Print out the idf values from your implementation and check if its the same as that of sklearns tfidf vectorizer idf values. </li>\n",
    "        <li> Once you get your voacb and idf values to be same as that of sklearns implementation of tfidf vectorizer, proceed to the below steps. </li>\n",
    "        <li> Make sure the output of your implementation is a sparse matrix. Before generating the final output, you need to normalize your sparse matrix using L2 normalization. You can refer to this link https://scikit-learn.org/stable/modules/generated/sklearn.preprocessing.normalize.html </li>\n",
    "        <li> After completing the above steps, print the output of your custom implementation and compare it with sklearns implementation of tfidf vectorizer.</li>\n",
    "        <li> To check the output of a single document in your collection of documents,  you can convert the sparse matrix related only to that document into dense matrix and print it.</li>\n",
    "        </ol>\n",
    "    </li>\n",
    "    <br>\n",
    "   </ul>\n",
    "\n",
    "  <p> <font color=\"#e60000\"><strong>Note-1: </strong></font> All the necessary outputs of sklearns tfidf vectorizer have been provided as reference in this notebook, you can compare your outputs as mentioned in the above steps, with these outputs.<br>\n",
    "   <font color=\"#e60000\"><strong>Note-2: </strong></font> The output of your custom implementation and that of sklearns implementation would match only with the collection of document strings provided to you as reference in this notebook. It would not match for strings that contain capital letters or punctuations, etc, because sklearn version of tfidf vectorizer deals with such strings in a different way. To know further details about how sklearn tfidf vectorizer works with such string, you can always refer to its official documentation.<br>\n",
    "   <font color=\"#e60000\"><strong>Note-3: </strong></font> During this task, it would be helpful for you to debug the code you write with print statements wherever necessary. But when you are finally submitting the assignment, make sure your code is readable and try not to print things which are not part of this task.\n",
    "    </p>"
   ]
  },
  {
   "cell_type": "markdown",
   "metadata": {
    "id": "OnV82tg1xLi0"
   },
   "source": [
    "### Corpus"
   ]
  },
  {
   "cell_type": "code",
   "execution_count": 1,
   "metadata": {
    "id": "bUsYm9wjxLi1"
   },
   "outputs": [],
   "source": [
    "# SkLearn# Collection of string documents\n",
    "\n",
    "corpus_1 = [\n",
    "     'this is the first document',\n",
    "     'this document is the second document',\n",
    "     'and this is the third one',\n",
    "     'is this the first document',\n",
    "]"
   ]
  },
  {
   "cell_type": "markdown",
   "metadata": {
    "id": "eLwmFZfKxLi4"
   },
   "source": [
    "### SkLearn Implementation"
   ]
  },
  {
   "cell_type": "code",
   "execution_count": 2,
   "metadata": {
    "id": "Np4dfQOkxLi4"
   },
   "outputs": [],
   "source": [
    "from sklearn.feature_extraction.text import TfidfVectorizer\n",
    "vectorizer = TfidfVectorizer()\n",
    "vectorizer.fit(corpus_1)\n",
    "skl_output = vectorizer.transform(corpus_1)"
   ]
  },
  {
   "cell_type": "code",
   "execution_count": 3,
   "metadata": {
    "colab": {
     "base_uri": "https://localhost:8080/"
    },
    "id": "-7Om8YpYxLi6",
    "outputId": "8ea9902d-bd08-4759-a2a7-6f6fb8aab4da"
   },
   "outputs": [
    {
     "name": "stdout",
     "output_type": "stream",
     "text": [
      "['and', 'document', 'first', 'is', 'one', 'second', 'the', 'third', 'this']\n"
     ]
    }
   ],
   "source": [
    "# sklearn feature names, they are sorted in alphabetic order by default.\n",
    "\n",
    "print(vectorizer.get_feature_names())"
   ]
  },
  {
   "cell_type": "code",
   "execution_count": 4,
   "metadata": {
    "colab": {
     "base_uri": "https://localhost:8080/"
    },
    "id": "dTKplK96xLi-",
    "outputId": "4286ca77-05ed-4627-e781-88722ab1bc5d"
   },
   "outputs": [
    {
     "name": "stdout",
     "output_type": "stream",
     "text": [
      "[1.91629073 1.22314355 1.51082562 1.         1.91629073 1.91629073\n",
      " 1.         1.91629073 1.        ]\n"
     ]
    }
   ],
   "source": [
    "# Here we will print the sklearn tfidf vectorizer idf values after applying the fit method\n",
    "# After using the fit function on the corpus the vocab has 9 words in it, and each has its idf value.\n",
    "\n",
    "print(vectorizer.idf_)"
   ]
  },
  {
   "cell_type": "code",
   "execution_count": 5,
   "metadata": {
    "colab": {
     "base_uri": "https://localhost:8080/"
    },
    "id": "-CTiWHygxLjA",
    "outputId": "560ed890-a999-4db8-b791-fbf8fe75757f"
   },
   "outputs": [
    {
     "data": {
      "text/plain": [
       "(4, 9)"
      ]
     },
     "execution_count": 5,
     "metadata": {},
     "output_type": "execute_result"
    }
   ],
   "source": [
    "# shape of sklearn tfidf vectorizer output after applying transform method.\n",
    "\n",
    "skl_output.shape"
   ]
  },
  {
   "cell_type": "code",
   "execution_count": 6,
   "metadata": {
    "colab": {
     "base_uri": "https://localhost:8080/"
    },
    "id": "bDKEpbA-xLjD",
    "outputId": "26a1a1e7-3ca5-438e-a511-b5f169a74325"
   },
   "outputs": [
    {
     "name": "stdout",
     "output_type": "stream",
     "text": [
      "  (0, 8)\t0.38408524091481483\n",
      "  (0, 6)\t0.38408524091481483\n",
      "  (0, 3)\t0.38408524091481483\n",
      "  (0, 2)\t0.5802858236844359\n",
      "  (0, 1)\t0.46979138557992045\n",
      "  (1, 8)\t0.281088674033753\n",
      "  (1, 6)\t0.281088674033753\n",
      "  (1, 5)\t0.5386476208856763\n",
      "  (1, 3)\t0.281088674033753\n",
      "  (1, 1)\t0.6876235979836938\n",
      "  (2, 8)\t0.267103787642168\n",
      "  (2, 7)\t0.511848512707169\n",
      "  (2, 6)\t0.267103787642168\n",
      "  (2, 4)\t0.511848512707169\n",
      "  (2, 3)\t0.267103787642168\n",
      "  (2, 0)\t0.511848512707169\n",
      "  (3, 8)\t0.38408524091481483\n",
      "  (3, 6)\t0.38408524091481483\n",
      "  (3, 3)\t0.38408524091481483\n",
      "  (3, 2)\t0.5802858236844359\n",
      "  (3, 1)\t0.46979138557992045\n"
     ]
    }
   ],
   "source": [
    "# sklearn tfidf values for first line of the above corpus.\n",
    "# Here the output is a sparse matrix\n",
    "\n",
    "skLearn_output = skl_output\n",
    "print(skLearn_output)"
   ]
  },
  {
   "cell_type": "code",
   "execution_count": 7,
   "metadata": {
    "colab": {
     "base_uri": "https://localhost:8080/"
    },
    "id": "3QWo34hexLjF",
    "outputId": "abb010a6-49c7-4e8d-fb39-bc97be21fe33"
   },
   "outputs": [
    {
     "name": "stdout",
     "output_type": "stream",
     "text": [
      "[[0.         0.46979139 0.58028582 0.38408524 0.         0.\n",
      "  0.38408524 0.         0.38408524]\n",
      " [0.         0.6876236  0.         0.28108867 0.         0.53864762\n",
      "  0.28108867 0.         0.28108867]\n",
      " [0.51184851 0.         0.         0.26710379 0.51184851 0.\n",
      "  0.26710379 0.51184851 0.26710379]\n",
      " [0.         0.46979139 0.58028582 0.38408524 0.         0.\n",
      "  0.38408524 0.         0.38408524]]\n"
     ]
    }
   ],
   "source": [
    "# sklearn tfidf values for first line of the above corpus.\n",
    "# To understand the output better, here we are converting the sparse output matrix to dense matrix and printing it.\n",
    "# Notice that this output is normalized using L2 normalization. sklearn does this by default.\n",
    "\n",
    "print(skl_output.toarray())"
   ]
  },
  {
   "cell_type": "markdown",
   "metadata": {
    "id": "qfIwx5LzxLjI"
   },
   "source": [
    "### Custom implementation"
   ]
  },
  {
   "cell_type": "code",
   "execution_count": 8,
   "metadata": {
    "id": "HjuCcJwXxLjJ"
   },
   "outputs": [],
   "source": [
    "from collections import Counter\n",
    "from tqdm import tqdm\n",
    "from scipy.sparse import csr_matrix\n",
    "import math\n",
    "import operator\n",
    "from sklearn.preprocessing import normalize\n",
    "import numpy"
   ]
  },
  {
   "cell_type": "code",
   "execution_count": 9,
   "metadata": {
    "id": "W1LoV_Nlb0yl"
   },
   "outputs": [],
   "source": [
    "#Code taken from the Reference document\n",
    "#it accepts only list of sentances\n",
    "def fit(dataset):   \n",
    "    \n",
    "    # at first we will initialize an empty set and list\n",
    "    unique_words = set()\n",
    "    splitted_words = list() \n",
    "    \n",
    "    # check if its list type or not\n",
    "    if isinstance(dataset, (list,)):\n",
    "        for row in dataset:\n",
    "            #takes rows from the dataset\n",
    "            #appends the list of splitted words into the list\n",
    "            splitted_words.append(row.split())\n",
    "            \n",
    "            # for each word in the review. \n",
    "            #split method converts a string into list of word\n",
    "            for word in row.split(\" \"):\n",
    "                unique_words.add(word)    \n",
    "        #sorting the unique words in the set\n",
    "        unique_words = sorted(list(unique_words))\n",
    "        \n",
    "        #initiolize an empty list for IDF calculation\n",
    "        IDF = list()\n",
    "        \n",
    "        for word in unique_words:\n",
    "            count_of_word = 0\n",
    "            #counts the how many document contain the word_i\n",
    "            for document in splitted_words:\n",
    "                if word in document:\n",
    "                      count_of_word += 1\n",
    "                        \n",
    "            #calculates the IDF of each unique words\n",
    "            IDF.append((1+(math.log((1+len(dataset))/(1+count_of_word)))))\n",
    "            \n",
    "        #returns the IDF and unique words list \n",
    "        return IDF, unique_words\n",
    "    else:\n",
    "        print(\"you need to pass list of sentance\")"
   ]
  },
  {
   "cell_type": "code",
   "execution_count": 10,
   "metadata": {
    "colab": {
     "base_uri": "https://localhost:8080/"
    },
    "id": "JmlJKBI5cQsg",
    "outputId": "9210b20e-c7ea-487c-cfab-4df4669558ea"
   },
   "outputs": [
    {
     "name": "stdout",
     "output_type": "stream",
     "text": [
      "The alphabetically sorted voacb after fit\n",
      " ['and', 'document', 'first', 'is', 'one', 'second', 'the', 'third', 'this']\n"
     ]
    }
   ],
   "source": [
    "#calling the fit() function\n",
    "fit_function_1 = fit(corpus_1)\n",
    "\n",
    "#printing the sort vocab\n",
    "print(\"The alphabetically sorted voacb after fit\\n\", fit_function_1[1])"
   ]
  },
  {
   "cell_type": "code",
   "execution_count": 11,
   "metadata": {},
   "outputs": [
    {
     "name": "stdout",
     "output_type": "stream",
     "text": [
      "\n",
      "The features name from skLearn tfidf vectorizer is same as the custom fit function.\n",
      "\n"
     ]
    }
   ],
   "source": [
    "#check if vocab same as that of the feature names from sklearn tfidf vectorizer.\n",
    "if all(i == j for (i, j) in zip(fit_function_1[1], vectorizer.get_feature_names())):\n",
    "    print(\"\\nThe features name from skLearn tfidf vectorizer is same as the custom fit function.\\n\")\n",
    "else:\n",
    "    print(\"\\nThe features name from skLearn tfidf vectorizer is NOT same as the custom fit function.\\n\")"
   ]
  },
  {
   "cell_type": "code",
   "execution_count": 12,
   "metadata": {},
   "outputs": [
    {
     "name": "stdout",
     "output_type": "stream",
     "text": [
      "The idf values from custom implementation\n",
      " [1.916290731874155, 1.2231435513142097, 1.5108256237659907, 1.0, 1.916290731874155, 1.916290731874155, 1.0, 1.916290731874155, 1.0]\n"
     ]
    }
   ],
   "source": [
    "#Print out the idf values from your implementation\n",
    "print(\"The idf values from custom implementation\\n\", fit_function_1[0])"
   ]
  },
  {
   "cell_type": "code",
   "execution_count": 13,
   "metadata": {},
   "outputs": [
    {
     "name": "stdout",
     "output_type": "stream",
     "text": [
      "\n",
      "The idf values from skLearn tfidf vectorizer is same as the custom fit function\n",
      "\n"
     ]
    }
   ],
   "source": [
    "# checking out the results from custom implementation is same as that of sklearns tfidf vectorizer idf values\n",
    "if all(i == j for (i, j) in zip(fit_function_1[0], vectorizer.idf_)):\n",
    "    print(\"\\nThe idf values from skLearn tfidf vectorizer is same as the custom fit function\\n\")\n",
    "else:\n",
    "    print(\"\\nThe idf values from skLearn tfidf vectorizer is NOT same as the custom fit function\\n\")"
   ]
  },
  {
   "cell_type": "code",
   "execution_count": 14,
   "metadata": {
    "id": "kirAlq8IcMV-"
   },
   "outputs": [],
   "source": [
    "def transform(dataset,fit_function_1):\n",
    "    '''\n",
    "    This function calculates the tfidf\n",
    "    '''\n",
    "    #intiation of the empty list\n",
    "    rows = list()\n",
    "    columns = list()\n",
    "    values = list()\n",
    "    splitted_corpus = list()\n",
    "    \n",
    "    #creating the vocab dictionary with enumeration, {unique words:enumeration}\n",
    "    vocab = {j:i for i,j in enumerate(fit_function_1[1])}\n",
    "    \n",
    "    #creating idf dictionary with unique words as key and idf as the values, {unique words:idf}\n",
    "    IDF_dict = dict(zip(fit_function_1[1],fit_function_1[0]))\n",
    "    \n",
    "    #splitting of each word in the dataset\n",
    "    for row in dataset:\n",
    "        splitted_corpus.append(row.split())\n",
    "\n",
    "    if isinstance(splitted_corpus, (list,)):\n",
    "        for idx, row in enumerate(tqdm(splitted_corpus)): \n",
    "            \n",
    "            # for each document in the dataset\n",
    "            # it will return a dict type object where key is the word and values is its frequency, {word:frequency}\n",
    "            word_freq = dict(Counter(row))\n",
    "            \n",
    "            # for every unique word in the document\n",
    "            for word, freq in word_freq.items():  \n",
    "                # for each unique word in the review.                \n",
    "                # we will check if its there in the vocabulary that we build in fit() function\n",
    "                # dict.get() function will return the values, if the key doesn't exits it will return -1\n",
    "                col_index = vocab.get(word, -1) # retreving the dimension number of a word\n",
    "                \n",
    "                # if the word exists\n",
    "                if col_index !=-1:\n",
    "                    # storing the index of the document\n",
    "                    rows.append(idx)\n",
    "        \n",
    "                    # storing the dimensions of the word\n",
    "                    columns.append(col_index)\n",
    "                    \n",
    "                    # storing the tfidf of the word\n",
    "                    values.append((freq/len(row)) * IDF_dict[word])  \n",
    "        \n",
    "        #returns the sparse matrix \n",
    "        return csr_matrix((values, (rows,columns)), shape=(len(dataset),len(vocab)))\n",
    "    else:\n",
    "        print(\"you need to pass list of strings\")"
   ]
  },
  {
   "cell_type": "code",
   "execution_count": 15,
   "metadata": {
    "colab": {
     "base_uri": "https://localhost:8080/",
     "height": 200
    },
    "id": "pqlzkXkNhpx3",
    "outputId": "d63b7142-c62d-4872-916c-82e18b76deb5"
   },
   "outputs": [
    {
     "name": "stderr",
     "output_type": "stream",
     "text": [
      "100%|████████████████████████████████████████████████████████████████████████████████████████████| 4/4 [00:00<?, ?it/s]\n"
     ]
    }
   ],
   "source": [
    "#importing sklearn for normalize\n",
    "from sklearn.preprocessing import normalize\n",
    "\n",
    "#calling the transform function\n",
    "X = transform(corpus_1, fit_function_1)\n",
    "\n",
    "#normalizing the results\n",
    "Final_output_after_normalization = normalize(X, norm='l2',axis=1, copy=True, return_norm=False)"
   ]
  },
  {
   "cell_type": "code",
   "execution_count": 16,
   "metadata": {},
   "outputs": [
    {
     "name": "stdout",
     "output_type": "stream",
     "text": [
      "the output of custom implementated tfidf \n",
      "   (0, 1)\t0.4697913855799205\n",
      "  (0, 2)\t0.580285823684436\n",
      "  (0, 3)\t0.3840852409148149\n",
      "  (0, 6)\t0.3840852409148149\n",
      "  (0, 8)\t0.3840852409148149\n",
      "  (1, 1)\t0.6876235979836937\n",
      "  (1, 3)\t0.2810886740337529\n",
      "  (1, 5)\t0.5386476208856762\n",
      "  (1, 6)\t0.2810886740337529\n",
      "  (1, 8)\t0.2810886740337529\n",
      "  (2, 0)\t0.511848512707169\n",
      "  (2, 3)\t0.267103787642168\n",
      "  (2, 4)\t0.511848512707169\n",
      "  (2, 6)\t0.267103787642168\n",
      "  (2, 7)\t0.511848512707169\n",
      "  (2, 8)\t0.267103787642168\n",
      "  (3, 1)\t0.4697913855799205\n",
      "  (3, 2)\t0.580285823684436\n",
      "  (3, 3)\t0.3840852409148149\n",
      "  (3, 6)\t0.3840852409148149\n",
      "  (3, 8)\t0.3840852409148149\n"
     ]
    }
   ],
   "source": [
    "#printing final sparse matrix\n",
    "print(\"the output of custom implementated tfidf \\n\",Final_output_after_normalization)"
   ]
  },
  {
   "cell_type": "code",
   "execution_count": 17,
   "metadata": {},
   "outputs": [
    {
     "name": "stdout",
     "output_type": "stream",
     "text": [
      "\n",
      "The sklearns implementation of tfidf vectorizer is same as custom implementation.\n",
      "\n"
     ]
    }
   ],
   "source": [
    "#compare it with sklearns implementation of tfidf vectorizer.   \n",
    "if (Final_output_after_normalization.toarray().all() == skl_output.toarray().all()):\n",
    "    print(\"\\nThe sklearns implementation of tfidf vectorizer is same as custom implementation.\\n\")\n",
    "else:\n",
    "    print(\"\\nThe sklearns implementation of tfidf vectorizer is NOT same as custom implementation.\\n\")"
   ]
  },
  {
   "cell_type": "code",
   "execution_count": 18,
   "metadata": {},
   "outputs": [
    {
     "name": "stdout",
     "output_type": "stream",
     "text": [
      "the output of a single document in your collection of documents\n",
      "\n",
      " [[0.         0.46979139 0.58028582 0.38408524 0.         0.\n",
      "  0.38408524 0.         0.38408524]]\n"
     ]
    }
   ],
   "source": [
    "#check the output of a single document in your collection of documents.\n",
    "print(\"the output of a single document in your collection of documents\\n\\n\", Final_output_after_normalization[0].toarray())"
   ]
  },
  {
   "cell_type": "markdown",
   "metadata": {
    "id": "MMxBmVZExLjK"
   },
   "source": [
    "## Task-2"
   ]
  },
  {
   "cell_type": "markdown",
   "metadata": {
    "id": "51j_OtqAxLjL"
   },
   "source": [
    "<font face='georgia'>\n",
    "    <h4><strong>2. Implement max features functionality:</strong></h4>\n",
    "\n",
    "<ul>\n",
    "    <li> As a part of this task you have to modify your fit and transform functions so that your vocab will contain only 50 terms with top idf scores.</li>\n",
    "    <br>\n",
    "    <li>This task is similar to your previous task, just that here your vocabulary is limited to only top 50 features names based on their idf values. Basically your output will have exactly 50 columns and the number of rows will depend on the number of documents you have in your corpus.</li>\n",
    "    <br>\n",
    "    <li>Here you will be give a pickle file, with file name <strong>cleaned_strings</strong>. You would have to load the corpus from this file and use it as input to your tfidf vectorizer.</li>\n",
    "    <br>\n",
    "    <li>Steps to approach this task:\n",
    "    <ol>\n",
    "        <li> You would have to write both fit and transform methods for your custom implementation of tfidf vectorizer, just like in the previous task. Additionally, here you have to limit the number of features generated to 50 as described above.</li>\n",
    "        <li> Now sort your vocab based in descending order of idf values and print out the words in the sorted voacb after you fit your data. Here you should be getting only 50 terms in your vocab. And make sure to print idf values for each term in your vocab. </li>\n",
    "        <li> Make sure the output of your implementation is a sparse matrix. Before generating the final output, you need to normalize your sparse matrix using L2 normalization. You can refer to this link https://scikit-learn.org/stable/modules/generated/sklearn.preprocessing.normalize.html </li>\n",
    "        <li> Now check the output of a single document in your collection of documents,  you can convert the sparse matrix related only to that document into dense matrix and print it. And this dense matrix should contain 1 row and 50 columns. </li>\n",
    "        </ol>\n",
    "    </li>\n",
    "    <br>\n",
    "   </ul>"
   ]
  },
  {
   "cell_type": "code",
   "execution_count": 19,
   "metadata": {
    "id": "NHxPLlwNxLjL"
   },
   "outputs": [
    {
     "name": "stdout",
     "output_type": "stream",
     "text": [
      "Number of documents in corpus =  746\n"
     ]
    }
   ],
   "source": [
    "# Below is the code to load the cleaned_strings pickle file provided\n",
    "# Here corpus is of list type\n",
    "\n",
    "import pickle\n",
    "with open('cleaned_strings', 'rb') as f:\n",
    "    corpus_2 = pickle.load(f)\n",
    "    \n",
    "# printing the length of the corpus loaded\n",
    "print(\"Number of documents in corpus = \",len(corpus_2))"
   ]
  },
  {
   "cell_type": "code",
   "execution_count": 20,
   "metadata": {
    "id": "1_DJnnR3xLjR"
   },
   "outputs": [],
   "source": [
    "#Code taken from the Reference document\n",
    "#it accepts only list of sentances\n",
    "def fit_1(dataset):   \n",
    "    \n",
    "    # at first we will initialize an empty set and list\n",
    "    unique_words = set()\n",
    "    splitted_words = list() \n",
    "      \n",
    "    # check if its list type or not\n",
    "    if isinstance(dataset, (list,)):\n",
    "        for row in dataset:\n",
    "            #takes rows from the dataset\n",
    "            #appends the list of splitted words into the list\n",
    "            splitted_words.append(row.split())\n",
    "            \n",
    "            # for each word in the review. \n",
    "            #split method converts a string into list of word\n",
    "            for word in row.split(\" \"):\n",
    "                unique_words.add(word)    \n",
    "        #sorting the unique words in the set\n",
    "        unique_words = sorted(list(unique_words))\n",
    "        \n",
    "        #initiolize an empty list for IDF calculation\n",
    "        IDF = list()\n",
    "        \n",
    "        for word in unique_words:\n",
    "            count_of_word = 0\n",
    "            #counts the how many document contain the word_i\n",
    "            for document in splitted_words:\n",
    "                if word in document:\n",
    "                      count_of_word += 1\n",
    "                        \n",
    "            #calculates the IDF of each unique words\n",
    "            IDF.append((1+(math.log((1+len(dataset))/(1+count_of_word)))))\n",
    "        \n",
    "        #creation of dictionary with unique words as key and idf as values {unique words:idf}\n",
    "        IDF_dict = dict(zip(unique_words, IDF))\n",
    "        \n",
    "        #sorting the dictionary based on items in descending order #intiution from stackover flow\n",
    "        IDF_sorted = dict(sorted(IDF_dict.items(), key=lambda x: x[1], reverse=True))\n",
    "        \n",
    "        #sorting top 50 values\n",
    "        Top_50_IDF = list(IDF_sorted.items())[:50]\n",
    "        \n",
    "        #returns the IDF and unique words list \n",
    "        return Top_50_IDF\n",
    "    else:\n",
    "        print(\"you need to pass list of sentance\")            "
   ]
  },
  {
   "cell_type": "code",
   "execution_count": 21,
   "metadata": {},
   "outputs": [
    {
     "name": "stdout",
     "output_type": "stream",
     "text": [
      "The number of words in the sorted vocab : 50\n"
     ]
    }
   ],
   "source": [
    "#calling the fit() function\n",
    "fit_function_2 = fit_1(corpus_2)\n",
    "\n",
    "print(\"The number of words in the sorted vocab :\",len(fit_function_2))"
   ]
  },
  {
   "cell_type": "code",
   "execution_count": 22,
   "metadata": {},
   "outputs": [
    {
     "name": "stdout",
     "output_type": "stream",
     "text": [
      "The top 50 vocab and its IDF values\n",
      "aailiyah        6.922918004572872 \n",
      "abandoned       6.922918004572872 \n",
      "abroad          6.922918004572872 \n",
      "abstruse        6.922918004572872 \n",
      "academy         6.922918004572872 \n",
      "accents         6.922918004572872 \n",
      "accessible      6.922918004572872 \n",
      "acclaimed       6.922918004572872 \n",
      "accolades       6.922918004572872 \n",
      "accurate        6.922918004572872 \n",
      "accurately      6.922918004572872 \n",
      "achille         6.922918004572872 \n",
      "ackerman        6.922918004572872 \n",
      "actions         6.922918004572872 \n",
      "adams           6.922918004572872 \n",
      "add             6.922918004572872 \n",
      "added           6.922918004572872 \n",
      "admins          6.922918004572872 \n",
      "admiration      6.922918004572872 \n",
      "admitted        6.922918004572872 \n",
      "adrift          6.922918004572872 \n",
      "adventure       6.922918004572872 \n",
      "aesthetically   6.922918004572872 \n",
      "affected        6.922918004572872 \n",
      "affleck         6.922918004572872 \n",
      "afternoon       6.922918004572872 \n",
      "aged            6.922918004572872 \n",
      "ages            6.922918004572872 \n",
      "agree           6.922918004572872 \n",
      "agreed          6.922918004572872 \n",
      "aimless         6.922918004572872 \n",
      "aired           6.922918004572872 \n",
      "akasha          6.922918004572872 \n",
      "akin            6.922918004572872 \n",
      "alert           6.922918004572872 \n",
      "alike           6.922918004572872 \n",
      "allison         6.922918004572872 \n",
      "allow           6.922918004572872 \n",
      "allowing        6.922918004572872 \n",
      "alongside       6.922918004572872 \n",
      "amateurish      6.922918004572872 \n",
      "amaze           6.922918004572872 \n",
      "amazed          6.922918004572872 \n",
      "amazingly       6.922918004572872 \n",
      "amusing         6.922918004572872 \n",
      "amust           6.922918004572872 \n",
      "anatomist       6.922918004572872 \n",
      "angel           6.922918004572872 \n",
      "angela          6.922918004572872 \n",
      "angelina        6.922918004572872 \n"
     ]
    }
   ],
   "source": [
    "#printing the values\n",
    "print(\"The top 50 vocab and its IDF values\")\n",
    "for i in fit_function_2:\n",
    "    print(\"{:<15} {} \".format(i[0], i[1]))"
   ]
  },
  {
   "cell_type": "code",
   "execution_count": 23,
   "metadata": {},
   "outputs": [],
   "source": [
    "def transform_1(dataset,fit_function_2):\n",
    "        '''\n",
    "        This function calculates the tfidf\n",
    "        '''\n",
    "        #intiation of the empty list\n",
    "        rows = list()\n",
    "        columns = list()\n",
    "        values = list()\n",
    "        splitted_corpus = list()\n",
    "        vocab = list()\n",
    "\n",
    "        #creating vocab of top 50 words\n",
    "        for tuples in fit_function_2:\n",
    "            vocab.append(tuples[0])\n",
    "\n",
    "        #creating the vocab dictionary with enumeration, {Top 50 words:enumeration}\n",
    "        vocab = {j:i for i,j in enumerate(vocab)}\n",
    "\n",
    "        #creating idf dictionary with unique words as key and idf as the values, {Top 50 words:idf}\n",
    "        IDF_dict = dict(fit_function_2)\n",
    "\n",
    "        #splitting of each word in the dataset\n",
    "        for row in dataset:\n",
    "            splitted_corpus.append(row.split())\n",
    "\n",
    "        if isinstance(splitted_corpus, (list,)):\n",
    "            for idx, row in enumerate(tqdm(splitted_corpus)): \n",
    "\n",
    "                # for each document in the dataset\n",
    "                # it will return a dict type object where key is the word and values is its frequency, {word:frequency}\n",
    "                word_freq = dict(Counter(row))\n",
    "\n",
    "                # for every unique word in the document\n",
    "                for word, freq in word_freq.items():  \n",
    "                    # for each unique word in the review.                \n",
    "                    # we will check if its there in the vocabulary that we build in fit() function\n",
    "                    # dict.get() function will return the values, if the key doesn't exits it will return -1\n",
    "                    col_index = vocab.get(word, -1) # retreving the dimension number of a word\n",
    "\n",
    "                    # if the word exists\n",
    "                    if col_index !=-1:\n",
    "                        # storing the index of the document\n",
    "                        rows.append(idx)\n",
    "\n",
    "                        # storing the dimensions of the word\n",
    "                        columns.append(col_index)\n",
    "\n",
    "                        # storing the tfidf of the word\n",
    "                        values.append((freq/len(row)) * (IDF_dict.get(word)))  \n",
    "\n",
    "            #returns the sparse matrix \n",
    "            return csr_matrix((values, (rows,columns)), shape=(len(dataset),len(vocab)))\n",
    "        else:\n",
    "            print(\"you need to pass list of strings\")"
   ]
  },
  {
   "cell_type": "code",
   "execution_count": 24,
   "metadata": {},
   "outputs": [
    {
     "name": "stderr",
     "output_type": "stream",
     "text": [
      "100%|█████████████████████████████████████████████████████████████████████████████| 746/746 [00:00<00:00, 20166.61it/s]\n"
     ]
    }
   ],
   "source": [
    "#importing sklearn for normalization\n",
    "from sklearn.preprocessing import normalize\n",
    "\n",
    "#calling custom transform function\n",
    "X1 = transform_1(corpus_2, fit_function_2)\n",
    "\n",
    "#finally normalizing the result\n",
    "Final_normalized = normalize(X1, norm='l2',axis=1, copy=True, return_norm=False)"
   ]
  },
  {
   "cell_type": "code",
   "execution_count": 25,
   "metadata": {},
   "outputs": [
    {
     "name": "stdout",
     "output_type": "stream",
     "text": [
      "The sparse matrix \n",
      "   (0, 30)\t1.0\n",
      "  (68, 24)\t1.0\n",
      "  (72, 29)\t1.0\n",
      "  (74, 31)\t1.0\n",
      "  (119, 33)\t1.0\n",
      "  (135, 3)\t0.37796447300922725\n",
      "  (135, 10)\t0.37796447300922725\n",
      "  (135, 18)\t0.37796447300922725\n",
      "  (135, 20)\t0.37796447300922725\n",
      "  (135, 36)\t0.37796447300922725\n",
      "  (135, 40)\t0.37796447300922725\n",
      "  (135, 41)\t0.37796447300922725\n",
      "  (176, 49)\t1.0\n",
      "  (181, 13)\t1.0\n",
      "  (192, 21)\t1.0\n",
      "  (193, 23)\t1.0\n",
      "  (216, 2)\t1.0\n",
      "  (222, 47)\t1.0\n",
      "  (225, 19)\t1.0\n",
      "  (227, 17)\t1.0\n",
      "  (241, 44)\t1.0\n",
      "  (270, 1)\t1.0\n",
      "  (290, 25)\t1.0\n",
      "  (333, 26)\t1.0\n",
      "  (334, 15)\t1.0\n",
      "  (341, 43)\t1.0\n",
      "  (344, 42)\t1.0\n",
      "  (348, 8)\t1.0\n",
      "  (377, 37)\t1.0\n",
      "  (409, 5)\t1.0\n",
      "  (430, 39)\t1.0\n",
      "  (457, 45)\t1.0\n",
      "  (461, 4)\t1.0\n",
      "  (465, 38)\t1.0\n",
      "  (475, 35)\t1.0\n",
      "  (493, 6)\t1.0\n",
      "  (500, 48)\t1.0\n",
      "  (548, 0)\t0.7071067811865475\n",
      "  (548, 32)\t0.7071067811865475\n",
      "  (608, 14)\t1.0\n",
      "  (612, 11)\t1.0\n",
      "  (620, 46)\t1.0\n",
      "  (632, 7)\t1.0\n",
      "  (644, 12)\t0.7071067811865475\n",
      "  (644, 27)\t0.7071067811865475\n",
      "  (664, 28)\t1.0\n",
      "  (667, 22)\t1.0\n",
      "  (691, 34)\t1.0\n",
      "  (697, 9)\t1.0\n",
      "  (722, 16)\t1.0\n"
     ]
    }
   ],
   "source": [
    "#the output of implementated sparse matrix\n",
    "print(\"The sparse matrix \\n\", Final_normalized)"
   ]
  },
  {
   "cell_type": "code",
   "execution_count": 26,
   "metadata": {
    "scrolled": true
   },
   "outputs": [
    {
     "name": "stdout",
     "output_type": "stream",
     "text": [
      "The dense matrix for row 548 is\n",
      " [[0.70710678 0.         0.         0.         0.         0.\n",
      "  0.         0.         0.         0.         0.         0.\n",
      "  0.         0.         0.         0.         0.         0.\n",
      "  0.         0.         0.         0.         0.         0.\n",
      "  0.         0.         0.         0.         0.         0.\n",
      "  0.         0.         0.70710678 0.         0.         0.\n",
      "  0.         0.         0.         0.         0.         0.\n",
      "  0.         0.         0.         0.         0.         0.\n",
      "  0.         0.        ]]\n"
     ]
    }
   ],
   "source": [
    "#the conversion of sparse matrix into dense matrix\n",
    "A = Final_normalized[548].toarray()\n",
    "print(\"The dense matrix for row 548 is\\n\",A)"
   ]
  },
  {
   "cell_type": "code",
   "execution_count": 27,
   "metadata": {},
   "outputs": [
    {
     "name": "stdout",
     "output_type": "stream",
     "text": [
      "The number of row 1 and columns 50 in a dense matrix of row 548\n",
      "\n"
     ]
    }
   ],
   "source": [
    "#printing matrix row and columns\n",
    "print(\"The number of row {} and columns {} in a dense matrix of row 548\\n\".format(len(A),len(A[0])))"
   ]
  }
 ],
 "metadata": {
  "colab": {
   "collapsed_sections": [],
   "name": "Copy of Assignment_3_Instructions.ipynb",
   "provenance": []
  },
  "kernelspec": {
   "display_name": "Python 3 (ipykernel)",
   "language": "python",
   "name": "python3"
  },
  "language_info": {
   "codemirror_mode": {
    "name": "ipython",
    "version": 3
   },
   "file_extension": ".py",
   "mimetype": "text/x-python",
   "name": "python",
   "nbconvert_exporter": "python",
   "pygments_lexer": "ipython3",
   "version": "3.9.7"
  }
 },
 "nbformat": 4,
 "nbformat_minor": 1
}
